{
 "cells": [
  {
   "cell_type": "code",
   "execution_count": 1,
   "metadata": {},
   "outputs": [],
   "source": [
    "import pandas as pd\n",
    "from datetime import datetime\n",
    "import sqlite3"
   ]
  },
  {
   "cell_type": "code",
   "execution_count": 2,
   "metadata": {},
   "outputs": [],
   "source": [
    "conn = sqlite3.connect(\"COVID19.db\")"
   ]
  },
  {
   "cell_type": "code",
   "execution_count": 3,
   "metadata": {},
   "outputs": [],
   "source": [
    "df = pd.read_sql_query(\"select * from covid19;\", conn)"
   ]
  },
  {
   "cell_type": "code",
   "execution_count": 4,
   "metadata": {},
   "outputs": [],
   "source": [
    "cols = [\"Province_State\",\"Confirmed\",\"Deaths\",\"Incident_Rate\"]"
   ]
  },
  {
   "cell_type": "code",
   "execution_count": 5,
   "metadata": {},
   "outputs": [],
   "source": [
    "cur = conn.cursor()"
   ]
  },
  {
   "cell_type": "code",
   "execution_count": 6,
   "metadata": {},
   "outputs": [],
   "source": [
    "df = pd.read_sql_query(\"select * from covid19;\", conn)"
   ]
  },
  {
   "cell_type": "code",
   "execution_count": 7,
   "metadata": {},
   "outputs": [],
   "source": [
    "transformed = df[cols]"
   ]
  },
  {
   "cell_type": "code",
   "execution_count": 8,
   "metadata": {},
   "outputs": [
    {
     "data": {
      "text/html": [
       "<div>\n",
       "<style scoped>\n",
       "    .dataframe tbody tr th:only-of-type {\n",
       "        vertical-align: middle;\n",
       "    }\n",
       "\n",
       "    .dataframe tbody tr th {\n",
       "        vertical-align: top;\n",
       "    }\n",
       "\n",
       "    .dataframe thead th {\n",
       "        text-align: right;\n",
       "    }\n",
       "</style>\n",
       "<table border=\"1\" class=\"dataframe\">\n",
       "  <thead>\n",
       "    <tr style=\"text-align: right;\">\n",
       "      <th></th>\n",
       "      <th>Province_State</th>\n",
       "      <th>Confirmed</th>\n",
       "      <th>Deaths</th>\n",
       "      <th>Incident_Rate</th>\n",
       "    </tr>\n",
       "  </thead>\n",
       "  <tbody>\n",
       "    <tr>\n",
       "      <td>0</td>\n",
       "      <td>South Carolina</td>\n",
       "      <td>10</td>\n",
       "      <td>0</td>\n",
       "      <td>40.771395</td>\n",
       "    </tr>\n",
       "    <tr>\n",
       "      <td>1</td>\n",
       "      <td>Louisiana</td>\n",
       "      <td>110</td>\n",
       "      <td>6</td>\n",
       "      <td>177.290676</td>\n",
       "    </tr>\n",
       "    <tr>\n",
       "      <td>2</td>\n",
       "      <td>Virginia</td>\n",
       "      <td>28</td>\n",
       "      <td>0</td>\n",
       "      <td>86.644387</td>\n",
       "    </tr>\n",
       "    <tr>\n",
       "      <td>3</td>\n",
       "      <td>Idaho</td>\n",
       "      <td>593</td>\n",
       "      <td>9</td>\n",
       "      <td>123.134553</td>\n",
       "    </tr>\n",
       "    <tr>\n",
       "      <td>4</td>\n",
       "      <td>Iowa</td>\n",
       "      <td>1</td>\n",
       "      <td>0</td>\n",
       "      <td>13.982103</td>\n",
       "    </tr>\n",
       "    <tr>\n",
       "      <td>...</td>\n",
       "      <td>...</td>\n",
       "      <td>...</td>\n",
       "      <td>...</td>\n",
       "      <td>...</td>\n",
       "    </tr>\n",
       "    <tr>\n",
       "      <td>2775</td>\n",
       "      <td>Alaska</td>\n",
       "      <td>1</td>\n",
       "      <td>0</td>\n",
       "      <td>19.120459</td>\n",
       "    </tr>\n",
       "    <tr>\n",
       "      <td>2776</td>\n",
       "      <td>Arizona</td>\n",
       "      <td>28</td>\n",
       "      <td>1</td>\n",
       "      <td>13.097148</td>\n",
       "    </tr>\n",
       "    <tr>\n",
       "      <td>2777</td>\n",
       "      <td>Colorado</td>\n",
       "      <td>2</td>\n",
       "      <td>0</td>\n",
       "      <td>19.962072</td>\n",
       "    </tr>\n",
       "    <tr>\n",
       "      <td>2778</td>\n",
       "      <td>Texas</td>\n",
       "      <td>6</td>\n",
       "      <td>0</td>\n",
       "      <td>42.316101</td>\n",
       "    </tr>\n",
       "    <tr>\n",
       "      <td>2779</td>\n",
       "      <td>Texas</td>\n",
       "      <td>1</td>\n",
       "      <td>0</td>\n",
       "      <td>8.445946</td>\n",
       "    </tr>\n",
       "  </tbody>\n",
       "</table>\n",
       "<p>2780 rows × 4 columns</p>\n",
       "</div>"
      ],
      "text/plain": [
       "      Province_State  Confirmed  Deaths  Incident_Rate\n",
       "0     South Carolina         10       0      40.771395\n",
       "1          Louisiana        110       6     177.290676\n",
       "2           Virginia         28       0      86.644387\n",
       "3              Idaho        593       9     123.134553\n",
       "4               Iowa          1       0      13.982103\n",
       "...              ...        ...     ...            ...\n",
       "2775          Alaska          1       0      19.120459\n",
       "2776         Arizona         28       1      13.097148\n",
       "2777        Colorado          2       0      19.962072\n",
       "2778           Texas          6       0      42.316101\n",
       "2779           Texas          1       0       8.445946\n",
       "\n",
       "[2780 rows x 4 columns]"
      ]
     },
     "execution_count": 8,
     "metadata": {},
     "output_type": "execute_result"
    }
   ],
   "source": [
    "transformed"
   ]
  },
  {
   "cell_type": "code",
   "execution_count": 9,
   "metadata": {},
   "outputs": [],
   "source": [
    "transformed.to_csv(\"transformed.csv\")"
   ]
  },
  {
   "cell_type": "code",
   "execution_count": 10,
   "metadata": {},
   "outputs": [
    {
     "name": "stdout",
     "output_type": "stream",
     "text": [
      "COVID19.db             Untitled1.ipynb        new_data_from_sql.csv\r\n",
      "Californiamap.html     app.js                 \u001b[31mpackage-lock.json\u001b[m\u001b[m*\r\n",
      "Coivd19California.csv  config.js              \u001b[31mpackage.json\u001b[m\u001b[m*\r\n",
      "Incidentrate.html      data.csv               settings.json\r\n",
      "\u001b[31mLICENSE\u001b[m\u001b[m*               \u001b[31mgulpfile.js\u001b[m\u001b[m*           \u001b[34mstatic\u001b[m\u001b[m/\r\n",
      "\u001b[31mREADME.md\u001b[m\u001b[m*             \u001b[31mindex.html\u001b[m\u001b[m*            style.css\r\n",
      "Untitled.ipynb         logic.js               transformed.csv\r\n",
      "Untitled1-Copy1.ipynb  \u001b[31mmap.html\u001b[m\u001b[m*              \u001b[34mvendor\u001b[m\u001b[m/\r\n"
     ]
    }
   ],
   "source": [
    "ls"
   ]
  },
  {
   "cell_type": "code",
   "execution_count": null,
   "metadata": {},
   "outputs": [],
   "source": []
  },
  {
   "cell_type": "code",
   "execution_count": null,
   "metadata": {},
   "outputs": [],
   "source": []
  }
 ],
 "metadata": {
  "kernelspec": {
   "display_name": "Python 3",
   "language": "python",
   "name": "python3"
  },
  "language_info": {
   "codemirror_mode": {
    "name": "ipython",
    "version": 3
   },
   "file_extension": ".py",
   "mimetype": "text/x-python",
   "name": "python",
   "nbconvert_exporter": "python",
   "pygments_lexer": "ipython3",
   "version": "3.7.4"
  }
 },
 "nbformat": 4,
 "nbformat_minor": 2
}
